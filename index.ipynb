{
 "cells": [
  {
   "cell_type": "markdown",
   "metadata": {},
   "source": [
    "# Ridge and Lasso Regression - Lab"
   ]
  },
  {
   "cell_type": "markdown",
   "metadata": {},
   "source": [
    "## Introduction"
   ]
  },
  {
   "cell_type": "markdown",
   "metadata": {},
   "source": [
    "In this lab, you'll practice your knowledge of Ridge and Lasso regression!"
   ]
  },
  {
   "cell_type": "markdown",
   "metadata": {},
   "source": [
    "## Objectives"
   ]
  },
  {
   "cell_type": "markdown",
   "metadata": {},
   "source": [
    "In this lab you will: \n",
    "\n",
    "- Use Lasso and Ridge regression with scikit-learn \n",
    "- Compare and contrast Lasso, Ridge and non-regularized regression "
   ]
  },
  {
   "cell_type": "markdown",
   "metadata": {},
   "source": [
    "## Housing Prices Data"
   ]
  },
  {
   "cell_type": "markdown",
   "metadata": {},
   "source": [
    "Let's look at yet another house pricing dataset: "
   ]
  },
  {
   "cell_type": "code",
   "execution_count": 1,
   "metadata": {},
   "outputs": [],
   "source": [
    "import pandas as pd\n",
    "import numpy as np\n",
    "from sklearn.model_selection import train_test_split\n",
    "import warnings\n",
    "warnings.filterwarnings('ignore')\n",
    "\n",
    "df = pd.read_csv('Housing_Prices/train.csv')"
   ]
  },
  {
   "cell_type": "markdown",
   "metadata": {},
   "source": [
    "Look at `.info()` of the data: "
   ]
  },
  {
   "cell_type": "code",
   "execution_count": 2,
   "metadata": {},
   "outputs": [
    {
     "name": "stdout",
     "output_type": "stream",
     "text": [
      "<class 'pandas.core.frame.DataFrame'>\n",
      "RangeIndex: 1460 entries, 0 to 1459\n",
      "Data columns (total 81 columns):\n",
      "Id               1460 non-null int64\n",
      "MSSubClass       1460 non-null int64\n",
      "MSZoning         1460 non-null object\n",
      "LotFrontage      1201 non-null float64\n",
      "LotArea          1460 non-null int64\n",
      "Street           1460 non-null object\n",
      "Alley            91 non-null object\n",
      "LotShape         1460 non-null object\n",
      "LandContour      1460 non-null object\n",
      "Utilities        1460 non-null object\n",
      "LotConfig        1460 non-null object\n",
      "LandSlope        1460 non-null object\n",
      "Neighborhood     1460 non-null object\n",
      "Condition1       1460 non-null object\n",
      "Condition2       1460 non-null object\n",
      "BldgType         1460 non-null object\n",
      "HouseStyle       1460 non-null object\n",
      "OverallQual      1460 non-null int64\n",
      "OverallCond      1460 non-null int64\n",
      "YearBuilt        1460 non-null int64\n",
      "YearRemodAdd     1460 non-null int64\n",
      "RoofStyle        1460 non-null object\n",
      "RoofMatl         1460 non-null object\n",
      "Exterior1st      1460 non-null object\n",
      "Exterior2nd      1460 non-null object\n",
      "MasVnrType       1452 non-null object\n",
      "MasVnrArea       1452 non-null float64\n",
      "ExterQual        1460 non-null object\n",
      "ExterCond        1460 non-null object\n",
      "Foundation       1460 non-null object\n",
      "BsmtQual         1423 non-null object\n",
      "BsmtCond         1423 non-null object\n",
      "BsmtExposure     1422 non-null object\n",
      "BsmtFinType1     1423 non-null object\n",
      "BsmtFinSF1       1460 non-null int64\n",
      "BsmtFinType2     1422 non-null object\n",
      "BsmtFinSF2       1460 non-null int64\n",
      "BsmtUnfSF        1460 non-null int64\n",
      "TotalBsmtSF      1460 non-null int64\n",
      "Heating          1460 non-null object\n",
      "HeatingQC        1460 non-null object\n",
      "CentralAir       1460 non-null object\n",
      "Electrical       1459 non-null object\n",
      "1stFlrSF         1460 non-null int64\n",
      "2ndFlrSF         1460 non-null int64\n",
      "LowQualFinSF     1460 non-null int64\n",
      "GrLivArea        1460 non-null int64\n",
      "BsmtFullBath     1460 non-null int64\n",
      "BsmtHalfBath     1460 non-null int64\n",
      "FullBath         1460 non-null int64\n",
      "HalfBath         1460 non-null int64\n",
      "BedroomAbvGr     1460 non-null int64\n",
      "KitchenAbvGr     1460 non-null int64\n",
      "KitchenQual      1460 non-null object\n",
      "TotRmsAbvGrd     1460 non-null int64\n",
      "Functional       1460 non-null object\n",
      "Fireplaces       1460 non-null int64\n",
      "FireplaceQu      770 non-null object\n",
      "GarageType       1379 non-null object\n",
      "GarageYrBlt      1379 non-null float64\n",
      "GarageFinish     1379 non-null object\n",
      "GarageCars       1460 non-null int64\n",
      "GarageArea       1460 non-null int64\n",
      "GarageQual       1379 non-null object\n",
      "GarageCond       1379 non-null object\n",
      "PavedDrive       1460 non-null object\n",
      "WoodDeckSF       1460 non-null int64\n",
      "OpenPorchSF      1460 non-null int64\n",
      "EnclosedPorch    1460 non-null int64\n",
      "3SsnPorch        1460 non-null int64\n",
      "ScreenPorch      1460 non-null int64\n",
      "PoolArea         1460 non-null int64\n",
      "PoolQC           7 non-null object\n",
      "Fence            281 non-null object\n",
      "MiscFeature      54 non-null object\n",
      "MiscVal          1460 non-null int64\n",
      "MoSold           1460 non-null int64\n",
      "YrSold           1460 non-null int64\n",
      "SaleType         1460 non-null object\n",
      "SaleCondition    1460 non-null object\n",
      "SalePrice        1460 non-null int64\n",
      "dtypes: float64(3), int64(35), object(43)\n",
      "memory usage: 924.0+ KB\n"
     ]
    }
   ],
   "source": [
    "# Your code here\n",
    "df.info()"
   ]
  },
  {
   "cell_type": "markdown",
   "metadata": {},
   "source": [
    "- First, split the data into `X` (predictor) and `y` (target) variables \n",
    "- Split the data into 75-25 training-test sets. Set the `random_state` to 10 \n",
    "- Remove all columns of `object` type from `X_train` and `X_test` and assign them to `X_train_cont` and `X_test_cont`, respectively "
   ]
  },
  {
   "cell_type": "code",
   "execution_count": 3,
   "metadata": {},
   "outputs": [],
   "source": [
    "# Create X and y\n",
    "y = df['SalePrice']\n",
    "X = df.drop(columns=['SalePrice'])\n",
    "\n",
    "# Split data into training and test sets\n",
    "X_train, X_test, y_train, y_test = train_test_split(X, y, random_state=10)\n",
    "\n",
    "# Remove \"object\"-type features from X\n",
    "cont_features = df.select_dtypes(exclude=['object'])\n",
    "\n",
    "# Remove \"object\"-type features from X_train and X_test\n",
    "X_train_cont = X_train.select_dtypes(exclude=['object'])\n",
    "X_test_cont = X_test.select_dtypes(exclude=['object'])"
   ]
  },
  {
   "cell_type": "markdown",
   "metadata": {},
   "source": [
    "## Let's use this data to build a first naive linear regression model"
   ]
  },
  {
   "cell_type": "markdown",
   "metadata": {},
   "source": [
    "- Fill the missing values in data using median of the columns (use [`SimpleImputer`](https://scikit-learn.org/stable/modules/generated/sklearn.impute.SimpleImputer.html)) \n",
    "- Fit a linear regression model to this data \n",
    "- Compute the R-squared and the MSE for both the training and test sets \n"
   ]
  },
  {
   "cell_type": "code",
   "execution_count": 4,
   "metadata": {},
   "outputs": [
    {
     "name": "stdout",
     "output_type": "stream",
     "text": [
      "Train R_squared: 0.8069714678400263\n",
      "Test R_squared: 0.8203264293698922\n",
      "Train MSE: 1212415985.708407\n",
      "Test MSE: 1146350639.8805757\n"
     ]
    }
   ],
   "source": [
    "from sklearn.metrics import mean_squared_error, mean_squared_log_error\n",
    "from sklearn.linear_model import LinearRegression\n",
    "from sklearn.impute import SimpleImputer\n",
    "\n",
    "# Impute missing values with median using SimpleImputer\n",
    "impute = SimpleImputer(strategy='median')\n",
    "X_train_imputed = impute.fit_transform(X_train_cont)\n",
    "X_test_imputed = impute.transform(X_test_cont)\n",
    "\n",
    "# Fit the model and print R2 and MSE for training and test sets\n",
    "linreg = LinearRegression().fit(X_train_imputed, y_train)\n",
    "\n",
    "# Print R2 and MSE for training and test sets\n",
    "print(\"Train R_squared:\", linreg.score(X_train_imputed, y_train))\n",
    "print(\"Test R_squared:\", linreg.score(X_test_imputed, y_test))\n",
    "print(\"Train MSE:\", mean_squared_error(y_train, linreg.predict(X_train_imputed)))\n",
    "print(\"Test MSE:\", mean_squared_error(y_test, linreg.predict(X_test_imputed)))"
   ]
  },
  {
   "cell_type": "markdown",
   "metadata": {},
   "source": [
    "## Normalize your data"
   ]
  },
  {
   "cell_type": "markdown",
   "metadata": {},
   "source": [
    "- Normalize your data using a `StandardScalar`  \n",
    "- Fit a linear regression model to this data \n",
    "- Compute the R-squared and the MSE for both the training and test sets \n"
   ]
  },
  {
   "cell_type": "code",
   "execution_count": 5,
   "metadata": {},
   "outputs": [
    {
     "name": "stdout",
     "output_type": "stream",
     "text": [
      "Train R_squared: 0.8070329651129636\n",
      "Test R_squared: 0.8202835099995736\n",
      "Train MSE: 1212029720.1343372\n",
      "Test MSE: 1146624473.4079857\n"
     ]
    }
   ],
   "source": [
    "from sklearn.preprocessing import StandardScaler\n",
    "\n",
    "# Scale the train and test data\n",
    "ss = StandardScaler()\n",
    "X_train_imputed_scaled = ss.fit_transform(X_train_imputed)\n",
    "X_test_imputed_scaled = ss.transform(X_test_imputed)\n",
    "\n",
    "# Fit the model\n",
    "linreg_norm = LinearRegression().fit(X_train_imputed_scaled, y_train)\n",
    "\n",
    "# Print R2 and MSE for training and test sets\n",
    "print(\"Train R_squared:\", linreg_norm.score(X_train_imputed_scaled, y_train))\n",
    "print(\"Test R_squared:\", linreg_norm.score(X_test_imputed_scaled, y_test))\n",
    "print(\"Train MSE:\", mean_squared_error(y_train, linreg_norm.predict(X_train_imputed_scaled)))\n",
    "print(\"Test MSE:\", mean_squared_error(y_test, linreg_norm.predict(X_test_imputed_scaled)))"
   ]
  },
  {
   "cell_type": "markdown",
   "metadata": {},
   "source": [
    "## Include categorical variables"
   ]
  },
  {
   "cell_type": "markdown",
   "metadata": {},
   "source": [
    "The above models didn't include categorical variables so far, let's include them! \n",
    "\n",
    "\n",
    "- Include all columns of `object` type from `X_train` and `X_test` and assign them to `X_train_cat` and `X_test_cat`, respectively \n",
    "- Fill missing values in all these columns with the string `'missing'` "
   ]
  },
  {
   "cell_type": "code",
   "execution_count": 6,
   "metadata": {},
   "outputs": [],
   "source": [
    "# Create X_cat which contains only the categorical variables\n",
    "#features_cat = None\n",
    "X_train_cat = X_train.select_dtypes(include=['object'])\n",
    "X_test_cat = X_test.select_dtypes(include=['object'])"
   ]
  },
  {
   "cell_type": "code",
   "execution_count": 7,
   "metadata": {},
   "outputs": [],
   "source": [
    "# Fill missing values with the string 'missing'\n",
    "X_train_cat.fillna('missing', inplace=True)\n",
    "X_test_cat.fillna('missing', inplace=True)"
   ]
  },
  {
   "cell_type": "markdown",
   "metadata": {},
   "source": [
    "- One-hot encode all these categorical columns using `OneHotEncoder` \n",
    "- Transform the training and test DataFrames (`X_train_cat`) and (`X_test_cat`) \n",
    "- Run the given code to convert these transformed features into DataFrames "
   ]
  },
  {
   "cell_type": "code",
   "execution_count": 8,
   "metadata": {},
   "outputs": [
    {
     "name": "stdout",
     "output_type": "stream",
     "text": [
      "<class 'scipy.sparse.csr.csr_matrix'>\n"
     ]
    }
   ],
   "source": [
    "from sklearn.preprocessing import OneHotEncoder\n",
    "\n",
    "# OneHotEncode categorical variables\n",
    "ohe = OneHotEncoder(handle_unknown='ignore')\n",
    "\n",
    "# Transform training and test sets\n",
    "X_train_ohe = ohe.fit_transform(X_train_cat)\n",
    "X_test_ohe = ohe.transform(X_test_cat)\n",
    "print(type(X_train_ohe))\n",
    "\n",
    "# Convert these columns into a DataFrame\n",
    "columns = ohe.get_feature_names(input_features=X_train_cat.columns)\n",
    "cat_train_df = pd.DataFrame(X_train_ohe.todense(), columns=columns)\n",
    "cat_test_df = pd.DataFrame(X_test_ohe.todense(), columns=columns)"
   ]
  },
  {
   "cell_type": "markdown",
   "metadata": {},
   "source": [
    "- Combine `X_train_imputed_scaled` and `cat_train_df` into a single DataFrame  \n",
    "- Similarly, combine `X_test_imputed_scaled` and `cat_test_df` into a single DataFrame "
   ]
  },
  {
   "cell_type": "code",
   "execution_count": 9,
   "metadata": {},
   "outputs": [
    {
     "data": {
      "text/plain": [
       "numpy.ndarray"
      ]
     },
     "execution_count": 9,
     "metadata": {},
     "output_type": "execute_result"
    }
   ],
   "source": [
    "type(X_train_imputed_scaled)"
   ]
  },
  {
   "cell_type": "code",
   "execution_count": 10,
   "metadata": {},
   "outputs": [
    {
     "data": {
      "text/html": [
       "<div>\n",
       "<style scoped>\n",
       "    .dataframe tbody tr th:only-of-type {\n",
       "        vertical-align: middle;\n",
       "    }\n",
       "\n",
       "    .dataframe tbody tr th {\n",
       "        vertical-align: top;\n",
       "    }\n",
       "\n",
       "    .dataframe thead th {\n",
       "        text-align: right;\n",
       "    }\n",
       "</style>\n",
       "<table border=\"1\" class=\"dataframe\">\n",
       "  <thead>\n",
       "    <tr style=\"text-align: right;\">\n",
       "      <th></th>\n",
       "      <th>Id</th>\n",
       "      <th>MSSubClass</th>\n",
       "      <th>LotFrontage</th>\n",
       "      <th>LotArea</th>\n",
       "      <th>OverallQual</th>\n",
       "      <th>OverallCond</th>\n",
       "      <th>YearBuilt</th>\n",
       "      <th>YearRemodAdd</th>\n",
       "      <th>MasVnrArea</th>\n",
       "      <th>BsmtFinSF1</th>\n",
       "      <th>...</th>\n",
       "      <th>GarageArea</th>\n",
       "      <th>WoodDeckSF</th>\n",
       "      <th>OpenPorchSF</th>\n",
       "      <th>EnclosedPorch</th>\n",
       "      <th>3SsnPorch</th>\n",
       "      <th>ScreenPorch</th>\n",
       "      <th>PoolArea</th>\n",
       "      <th>MiscVal</th>\n",
       "      <th>MoSold</th>\n",
       "      <th>YrSold</th>\n",
       "    </tr>\n",
       "  </thead>\n",
       "  <tbody>\n",
       "    <tr>\n",
       "      <th>0</th>\n",
       "      <td>-0.375465</td>\n",
       "      <td>-0.868555</td>\n",
       "      <td>-0.020790</td>\n",
       "      <td>-0.045149</td>\n",
       "      <td>0.639596</td>\n",
       "      <td>-0.525371</td>\n",
       "      <td>1.075842</td>\n",
       "      <td>0.927822</td>\n",
       "      <td>0.344734</td>\n",
       "      <td>-0.954564</td>\n",
       "      <td>...</td>\n",
       "      <td>0.255948</td>\n",
       "      <td>-0.767076</td>\n",
       "      <td>-0.710015</td>\n",
       "      <td>-0.353939</td>\n",
       "      <td>-0.119925</td>\n",
       "      <td>-0.26839</td>\n",
       "      <td>-0.073427</td>\n",
       "      <td>-0.091508</td>\n",
       "      <td>-1.221204</td>\n",
       "      <td>1.636312</td>\n",
       "    </tr>\n",
       "    <tr>\n",
       "      <th>1</th>\n",
       "      <td>1.646800</td>\n",
       "      <td>3.097630</td>\n",
       "      <td>-0.455243</td>\n",
       "      <td>0.061269</td>\n",
       "      <td>-1.551303</td>\n",
       "      <td>0.386327</td>\n",
       "      <td>-2.868883</td>\n",
       "      <td>-1.700933</td>\n",
       "      <td>-0.570404</td>\n",
       "      <td>-0.958883</td>\n",
       "      <td>...</td>\n",
       "      <td>0.387519</td>\n",
       "      <td>-0.767076</td>\n",
       "      <td>-0.710015</td>\n",
       "      <td>1.494842</td>\n",
       "      <td>-0.119925</td>\n",
       "      <td>-0.26839</td>\n",
       "      <td>-0.073427</td>\n",
       "      <td>-0.091508</td>\n",
       "      <td>-0.854139</td>\n",
       "      <td>1.636312</td>\n",
       "    </tr>\n",
       "    <tr>\n",
       "      <th>2</th>\n",
       "      <td>1.541995</td>\n",
       "      <td>0.064665</td>\n",
       "      <td>0.196436</td>\n",
       "      <td>-0.083475</td>\n",
       "      <td>0.639596</td>\n",
       "      <td>0.386327</td>\n",
       "      <td>0.876949</td>\n",
       "      <td>0.635738</td>\n",
       "      <td>-0.570404</td>\n",
       "      <td>1.146352</td>\n",
       "      <td>...</td>\n",
       "      <td>0.495594</td>\n",
       "      <td>1.261706</td>\n",
       "      <td>1.827116</td>\n",
       "      <td>-0.353939</td>\n",
       "      <td>-0.119925</td>\n",
       "      <td>-0.26839</td>\n",
       "      <td>-0.073427</td>\n",
       "      <td>-0.091508</td>\n",
       "      <td>-0.120009</td>\n",
       "      <td>-1.376318</td>\n",
       "    </tr>\n",
       "    <tr>\n",
       "      <th>3</th>\n",
       "      <td>-1.316331</td>\n",
       "      <td>2.397715</td>\n",
       "      <td>-1.150367</td>\n",
       "      <td>-0.488028</td>\n",
       "      <td>0.639596</td>\n",
       "      <td>1.298025</td>\n",
       "      <td>0.512310</td>\n",
       "      <td>0.100251</td>\n",
       "      <td>-0.570404</td>\n",
       "      <td>0.109929</td>\n",
       "      <td>...</td>\n",
       "      <td>0.124378</td>\n",
       "      <td>2.769260</td>\n",
       "      <td>-0.187665</td>\n",
       "      <td>-0.353939</td>\n",
       "      <td>-0.119925</td>\n",
       "      <td>-0.26839</td>\n",
       "      <td>-0.073427</td>\n",
       "      <td>-0.091508</td>\n",
       "      <td>-0.120009</td>\n",
       "      <td>-1.376318</td>\n",
       "    </tr>\n",
       "    <tr>\n",
       "      <th>4</th>\n",
       "      <td>0.203346</td>\n",
       "      <td>-0.868555</td>\n",
       "      <td>0.326772</td>\n",
       "      <td>-0.047972</td>\n",
       "      <td>-0.090704</td>\n",
       "      <td>0.386327</td>\n",
       "      <td>0.081374</td>\n",
       "      <td>0.684419</td>\n",
       "      <td>-0.031126</td>\n",
       "      <td>0.472677</td>\n",
       "      <td>...</td>\n",
       "      <td>0.030399</td>\n",
       "      <td>1.357933</td>\n",
       "      <td>-0.710015</td>\n",
       "      <td>-0.353939</td>\n",
       "      <td>-0.119925</td>\n",
       "      <td>-0.26839</td>\n",
       "      <td>14.774354</td>\n",
       "      <td>-0.091508</td>\n",
       "      <td>-1.955334</td>\n",
       "      <td>-1.376318</td>\n",
       "    </tr>\n",
       "  </tbody>\n",
       "</table>\n",
       "<p>5 rows × 37 columns</p>\n",
       "</div>"
      ],
      "text/plain": [
       "         Id  MSSubClass  LotFrontage   LotArea  OverallQual  OverallCond  \\\n",
       "0 -0.375465   -0.868555    -0.020790 -0.045149     0.639596    -0.525371   \n",
       "1  1.646800    3.097630    -0.455243  0.061269    -1.551303     0.386327   \n",
       "2  1.541995    0.064665     0.196436 -0.083475     0.639596     0.386327   \n",
       "3 -1.316331    2.397715    -1.150367 -0.488028     0.639596     1.298025   \n",
       "4  0.203346   -0.868555     0.326772 -0.047972    -0.090704     0.386327   \n",
       "\n",
       "   YearBuilt  YearRemodAdd  MasVnrArea  BsmtFinSF1  ...  GarageArea  \\\n",
       "0   1.075842      0.927822    0.344734   -0.954564  ...    0.255948   \n",
       "1  -2.868883     -1.700933   -0.570404   -0.958883  ...    0.387519   \n",
       "2   0.876949      0.635738   -0.570404    1.146352  ...    0.495594   \n",
       "3   0.512310      0.100251   -0.570404    0.109929  ...    0.124378   \n",
       "4   0.081374      0.684419   -0.031126    0.472677  ...    0.030399   \n",
       "\n",
       "   WoodDeckSF  OpenPorchSF  EnclosedPorch  3SsnPorch  ScreenPorch   PoolArea  \\\n",
       "0   -0.767076    -0.710015      -0.353939  -0.119925     -0.26839  -0.073427   \n",
       "1   -0.767076    -0.710015       1.494842  -0.119925     -0.26839  -0.073427   \n",
       "2    1.261706     1.827116      -0.353939  -0.119925     -0.26839  -0.073427   \n",
       "3    2.769260    -0.187665      -0.353939  -0.119925     -0.26839  -0.073427   \n",
       "4    1.357933    -0.710015      -0.353939  -0.119925     -0.26839  14.774354   \n",
       "\n",
       "    MiscVal    MoSold    YrSold  \n",
       "0 -0.091508 -1.221204  1.636312  \n",
       "1 -0.091508 -0.854139  1.636312  \n",
       "2 -0.091508 -0.120009 -1.376318  \n",
       "3 -0.091508 -0.120009 -1.376318  \n",
       "4 -0.091508 -1.955334 -1.376318  \n",
       "\n",
       "[5 rows x 37 columns]"
      ]
     },
     "execution_count": 10,
     "metadata": {},
     "output_type": "execute_result"
    }
   ],
   "source": [
    "pd.DataFrame(X_train_imputed_scaled, columns=X_train_cont.columns).head()"
   ]
  },
  {
   "cell_type": "code",
   "execution_count": 11,
   "metadata": {},
   "outputs": [],
   "source": [
    "# Your code here\n",
    "X_train_all = pd.concat([pd.DataFrame(X_train_imputed_scaled, columns=X_train_cont.columns), \n",
    "                         cat_train_df], \n",
    "                        axis=1)\n",
    "X_test_all = pd.concat([pd.DataFrame(X_test_imputed_scaled, columns=X_test_cont.columns), \n",
    "                        cat_test_df], \n",
    "                       axis=1)"
   ]
  },
  {
   "cell_type": "markdown",
   "metadata": {},
   "source": [
    "Now build a linear regression model using all the features (`X_train_all`). Also, print the R-squared and the MSE for both the training and test sets. "
   ]
  },
  {
   "cell_type": "code",
   "execution_count": 12,
   "metadata": {},
   "outputs": [
    {
     "name": "stdout",
     "output_type": "stream",
     "text": [
      "Train R_squared: 0.9359963236812183\n",
      "Test R_squared: -2.939897198618299e+20\n",
      "Train MSE: 402008342.7287671\n",
      "Test MSE: 1.8757088329687063e+30\n"
     ]
    }
   ],
   "source": [
    "# Your code here\n",
    "linreg_all = LinearRegression().fit(X_train_all, y_train)\n",
    "\n",
    "print(\"Train R_squared:\", linreg_all.score(X_train_all, y_train))\n",
    "print(\"Test R_squared:\", linreg_all.score(X_test_all, y_test))\n",
    "print(\"Train MSE:\", mean_squared_error(y_train, linreg_all.predict(X_train_all)))\n",
    "print(\"Test MSE:\", mean_squared_error(y_test, linreg_all.predict(X_test_all)))"
   ]
  },
  {
   "cell_type": "markdown",
   "metadata": {},
   "source": [
    "Notice the severe overfitting above; our training R-squared is very high, but the test R-squared is negative! Similarly, the scale of the test MSE is orders of magnitude higher than that of the training MSE."
   ]
  },
  {
   "cell_type": "markdown",
   "metadata": {},
   "source": [
    "## Ridge and Lasso regression"
   ]
  },
  {
   "cell_type": "markdown",
   "metadata": {},
   "source": [
    "Use all the data (normalized features and dummy categorical variables, `X_train_all`) to build two models - one each for Lasso and Ridge regression. Each time, look at R-squared and MSE. "
   ]
  },
  {
   "cell_type": "markdown",
   "metadata": {},
   "source": [
    "## Lasso"
   ]
  },
  {
   "cell_type": "markdown",
   "metadata": {},
   "source": [
    "#### With default parameter (alpha = 1)"
   ]
  },
  {
   "cell_type": "code",
   "execution_count": 17,
   "metadata": {},
   "outputs": [
    {
     "name": "stdout",
     "output_type": "stream",
     "text": [
      "Train R_squared: 0.9359681086176651\n",
      "Test R_squared: 0.888684112594205\n",
      "Train MSE: 402185562.09476894\n",
      "Test MSE: 710215967.2621554\n"
     ]
    }
   ],
   "source": [
    "# Your code here\n",
    "from sklearn.linear_model import Lasso\n",
    "\n",
    "lasso = Lasso().fit(X_train_all, y_train)\n",
    "\n",
    "print(\"Train R_squared:\", lasso.score(X_train_all, y_train))\n",
    "print(\"Test R_squared:\", lasso.score(X_test_all, y_test))\n",
    "print(\"Train MSE:\", mean_squared_error(y_train, lasso.predict(X_train_all)))\n",
    "print(\"Test MSE:\", mean_squared_error(y_test, lasso.predict(X_test_all)))"
   ]
  },
  {
   "cell_type": "markdown",
   "metadata": {},
   "source": [
    "#### With a higher regularization parameter (alpha = 10)"
   ]
  },
  {
   "cell_type": "code",
   "execution_count": 18,
   "metadata": {},
   "outputs": [
    {
     "name": "stdout",
     "output_type": "stream",
     "text": [
      "Train R_squared: 0.9343826511712741\n",
      "Test R_squared: 0.8966777526569275\n",
      "Train MSE: 412143851.32359606\n",
      "Test MSE: 659215063.9643531\n"
     ]
    }
   ],
   "source": [
    "# Your code here\n",
    "lasso2 = Lasso(alpha=10).fit(X_train_all, y_train)\n",
    "\n",
    "print(\"Train R_squared:\", lasso2.score(X_train_all, y_train))\n",
    "print(\"Test R_squared:\", lasso2.score(X_test_all, y_test))\n",
    "print(\"Train MSE:\", mean_squared_error(y_train, lasso2.predict(X_train_all)))\n",
    "print(\"Test MSE:\", mean_squared_error(y_test, lasso2.predict(X_test_all)))"
   ]
  },
  {
   "cell_type": "markdown",
   "metadata": {},
   "source": [
    "## Ridge"
   ]
  },
  {
   "cell_type": "markdown",
   "metadata": {},
   "source": [
    "#### With default parameter (alpha = 1)"
   ]
  },
  {
   "cell_type": "code",
   "execution_count": 19,
   "metadata": {},
   "outputs": [
    {
     "name": "stdout",
     "output_type": "stream",
     "text": [
      "Train R_squared: 0.9231940244796031\n",
      "Test R_squared: 0.884233048544421\n",
      "Train MSE: 482419834.3987997\n",
      "Test MSE: 738614579.8334152\n"
     ]
    }
   ],
   "source": [
    "# Your code here\n",
    "from sklearn.linear_model import Ridge\n",
    "\n",
    "ridge = Ridge().fit(X_train_all, y_train)\n",
    "\n",
    "print(\"Train R_squared:\", ridge.score(X_train_all, y_train))\n",
    "print(\"Test R_squared:\", ridge.score(X_test_all, y_test))\n",
    "print(\"Train MSE:\", mean_squared_error(y_train, ridge.predict(X_train_all)))\n",
    "print(\"Test MSE:\", mean_squared_error(y_test, ridge.predict(X_test_all)))"
   ]
  },
  {
   "cell_type": "markdown",
   "metadata": {},
   "source": [
    "#### With default parameter (alpha = 10)"
   ]
  },
  {
   "cell_type": "code",
   "execution_count": 20,
   "metadata": {},
   "outputs": [
    {
     "name": "stdout",
     "output_type": "stream",
     "text": [
      "Train R_squared: 0.8990002650425939\n",
      "Test R_squared: 0.8834542222982165\n",
      "Train MSE: 634381310.5991352\n",
      "Test MSE: 743583635.452232\n"
     ]
    }
   ],
   "source": [
    "# Your code here\n",
    "ridge2 = Ridge(alpha=10).fit(X_train_all, y_train)\n",
    "\n",
    "print(\"Train R_squared:\", ridge2.score(X_train_all, y_train))\n",
    "print(\"Test R_squared:\", ridge2.score(X_test_all, y_test))\n",
    "print(\"Train MSE:\", mean_squared_error(y_train, ridge2.predict(X_train_all)))\n",
    "print(\"Test MSE:\", mean_squared_error(y_test, ridge2.predict(X_test_all)))"
   ]
  },
  {
   "cell_type": "markdown",
   "metadata": {},
   "source": [
    "## Compare the metrics    \n",
    "\n",
    "Write your conclusions here: \n",
    "_________________________________\n",
    "The best performance considering both the test and train set was achieved through the Lasso with alpha 10. This is likely due to the fact that Lasso is good for eliminating needless features, and thus best preventing overfitting. The Ridge regressions also far outperformed the unpenalized linear model, thanks to the regularization, but did not match the level of performance seen in the Lasso regressions."
   ]
  },
  {
   "cell_type": "markdown",
   "metadata": {},
   "source": [
    "## Compare number of parameter estimates that are (very close to) 0 for Ridge and Lasso\n",
    "\n",
    "Use 10**(-10) as an estimate that is very close to 0. "
   ]
  },
  {
   "cell_type": "code",
   "execution_count": 22,
   "metadata": {},
   "outputs": [
    {
     "name": "stdout",
     "output_type": "stream",
     "text": [
      "Number of parameters near zero in Ridge with alpha = 1: 0\n",
      "Number of parameters near zero in Ridge with alpha = 10: 0\n"
     ]
    }
   ],
   "source": [
    "# Number of Ridge params almost zero\n",
    "print(\"Number of parameters near zero in Ridge with alpha = 1:\", \n",
    "      sum(abs(ridge.coef_) < 10e-10)\n",
    "     )\n",
    "print(\"Number of parameters near zero in Ridge with alpha = 10:\", \n",
    "      sum(abs(ridge2.coef_) < 10e-10)\n",
    "     )"
   ]
  },
  {
   "cell_type": "code",
   "execution_count": 25,
   "metadata": {},
   "outputs": [
    {
     "name": "stdout",
     "output_type": "stream",
     "text": [
      "Number of parameters near zero in Lasso with alpha = 1: 35\n",
      "Number of parameters near zero in Lasso with alpha = 10: 77\n"
     ]
    }
   ],
   "source": [
    "# Number of Lasso params almost zero\n",
    "print(\"Number of parameters near zero in Lasso with alpha = 1:\",\n",
    "      sum(abs(lasso.coef_) < 10e-10)\n",
    "     )\n",
    "print(\"Number of parameters near zero in Lasso with alpha = 10:\",\n",
    "      sum(abs(lasso2.coef_) < 10e-10)\n",
    "     )"
   ]
  },
  {
   "cell_type": "code",
   "execution_count": 28,
   "metadata": {},
   "outputs": [
    {
     "name": "stdout",
     "output_type": "stream",
     "text": [
      "Total number of parameters: 296\n",
      "Percent removed from lasso with alpha = 1: 0.11824324324324324\n",
      "Percent removed from lasso with alpha = 10: 0.26013513513513514\n"
     ]
    }
   ],
   "source": [
    "print(\"Total number of parameters:\", len(lasso.coef_))\n",
    "print(\"Percent removed from lasso with alpha = 1:\", sum(abs(lasso.coef_) < 10**(-10))/ len(lasso.coef_))\n",
    "print(\"Percent removed from lasso with alpha = 10:\", sum(abs(lasso2.coef_) < 10**(-10))/ len(lasso2.coef_))"
   ]
  },
  {
   "cell_type": "markdown",
   "metadata": {},
   "source": [
    "Lasso was very effective to essentially perform variable selection and remove about 25% of the variables from your model!"
   ]
  },
  {
   "cell_type": "markdown",
   "metadata": {},
   "source": [
    "## Put it all together"
   ]
  },
  {
   "cell_type": "markdown",
   "metadata": {},
   "source": [
    "To bring all of our work together lets take a moment to put all of our preprocessing steps for categorical and continuous variables into one function. This function should take in our features as a dataframe `X` and target as a Series `y` and return a training and test DataFrames with all of our preprocessed features along with training and test targets. "
   ]
  },
  {
   "cell_type": "code",
   "execution_count": 29,
   "metadata": {},
   "outputs": [],
   "source": [
    "def preprocess(X, y):\n",
    "    '''Takes in features and target and implements all preprocessing steps for categorical and continuous features returning \n",
    "    train and test DataFrames with targets'''\n",
    "    import pandas as pd\n",
    "    import numpy as np\n",
    "    from sklearn.model_selection import train_test_split\n",
    "    \n",
    "    # Train-test split (75-25), set seed to 10\n",
    "    X_train, X_test, y_train, y_test = train_test_split(X, y, random_state=10)\n",
    "    \n",
    "    # Remove \"object\"-type features and SalesPrice from X\n",
    "    X_train_cont = X_train.select_dtypes(exclude=['object'])\n",
    "    X_test_cont = X_test.select_dtypes(exclude=['object'])\n",
    "\n",
    "    # Impute missing values with median using SimpleImputer\n",
    "    from sklearn.impute import SimpleImputer\n",
    "    \n",
    "    impute = SimpleImputer(strategy='median')\n",
    "    X_train_imputed = impute.fit_transform(X_train_cont)\n",
    "    X_test_imputed = impute.transform(X_test_cont)\n",
    "\n",
    "    # Scale the train and test data\n",
    "    from sklearn.preprocessing import StandardScaler\n",
    "\n",
    "    ss = StandardScaler()\n",
    "    X_train_imputed_scaled = ss.fit_transform(X_train_imputed)\n",
    "    X_test_imputed_scaled = ss.transform(X_test_imputed)\n",
    "\n",
    "    # Create X_cat which contains only the categorical variables\n",
    "    X_train_cat = X_train.select_dtypes(include=['object'])\n",
    "    X_test_cat = X_test.select_dtypes(include=['object'])\n",
    "\n",
    "    # Fill nans with a value indicating that that it is missing\n",
    "    X_train_cat.fillna('missing', inplace=True)\n",
    "    X_test_cat.fillna('missing', inplace=True)\n",
    "\n",
    "    # OneHotEncode Categorical variables\n",
    "    from sklearn.preprocessing import OneHotEncoder\n",
    "\n",
    "    ohe = OneHotEncoder(handle_unknown='ignore')\n",
    "    X_train_ohe = ohe.fit_transform(X_train_cat)\n",
    "    X_test_ohe = ohe.transform(X_test_cat)\n",
    "    \n",
    "    # Combine categorical and continuous features into the final dataframe\n",
    "    X_train_all = pd.concat([pd.DataFrame(X_train_imputed_scaled, columns=X_train_cont.columns), \n",
    "                             cat_train_df], \n",
    "                            axis=1)\n",
    "    X_test_all = pd.concat([pd.DataFrame(X_test_imputed_scaled, columns=X_test_cont.columns), \n",
    "                            cat_test_df], \n",
    "                           axis=1)\n",
    "    \n",
    "    return X_train_all, X_test_all, y_train, y_test"
   ]
  },
  {
   "cell_type": "markdown",
   "metadata": {},
   "source": [
    "### Graph the training and test error to find optimal alpha values\n",
    "\n",
    "Earlier we tested two values of alpha to see how it effected our MSE and the value of our coefficients. We could continue to guess values of alpha for our Ridge or Lasso regression one at a time to see which values minimize our loss, or we can test a range of values and pick the alpha which minimizes our MSE. Here is an example of how we would do this:  "
   ]
  },
  {
   "cell_type": "code",
   "execution_count": 30,
   "metadata": {},
   "outputs": [],
   "source": [
    "X_train_all, X_test_all, y_train, y_test = preprocess(X, y)\n",
    "\n",
    "train_mse = []\n",
    "test_mse = []\n",
    "alphas = []\n",
    "\n",
    "for alpha in np.linspace(0, 200, num=50):\n",
    "    lasso = Lasso(alpha=alpha)\n",
    "    lasso.fit(X_train_all, y_train)\n",
    "    \n",
    "    train_preds = lasso.predict(X_train_all)\n",
    "    train_mse.append(mean_squared_error(y_train, train_preds))\n",
    "    \n",
    "    test_preds = lasso.predict(X_test_all)\n",
    "    test_mse.append(mean_squared_error(y_test, test_preds))\n",
    "    \n",
    "    alphas.append(alpha)"
   ]
  },
  {
   "cell_type": "code",
   "execution_count": 32,
   "metadata": {},
   "outputs": [
    {
     "name": "stdout",
     "output_type": "stream",
     "text": [
      "Optimal Alpha Value: 40\n"
     ]
    },
    {
     "data": {
      "image/png": "[encoded data removed]",
      "text/plain": [
       "<Figure size 648x648 with 1 Axes>"
      ]
     },
     "metadata": {},
     "output_type": "display_data"
    }
   ],
   "source": [
    "import matplotlib.pyplot as plt\n",
    "%matplotlib inline\n",
    "from jupyterthemes import jtplot\n",
    "jtplot.style()\n",
    "\n",
    "fig, ax = plt.subplots(figsize=(9,9))\n",
    "ax.plot(alphas, train_mse, label='Train')\n",
    "ax.plot(alphas, test_mse, label='Test')\n",
    "ax.set_xlabel('Alpha')\n",
    "ax.set_ylabel('MSE')\n",
    "\n",
    "# np.argmin() returns the index of the minimum value in a list\n",
    "optimal_alpha = alphas[np.argmin(test_mse)]\n",
    "\n",
    "# Add a vertical line where the test MSE is minimized\n",
    "ax.axvline(optimal_alpha, color='orange', linestyle='--')\n",
    "ax.legend();\n",
    "\n",
    "print(f'Optimal Alpha Value: {int(optimal_alpha)}')"
   ]
  },
  {
   "cell_type": "code",
   "execution_count": 33,
   "metadata": {},
   "outputs": [
    {
     "name": "stdout",
     "output_type": "stream",
     "text": [
      "Train R_squared: 0.9282328269651914\n",
      "Test R_squared: 0.9042421353013819\n",
      "Train MSE: 450771017.43897545\n",
      "Test MSE: 610952902.4546697\n"
     ]
    }
   ],
   "source": [
    "lasso = Lasso(alpha=40).fit(X_train_all, y_train)\n",
    "\n",
    "print(\"Train R_squared:\", lasso.score(X_train_all, y_train))\n",
    "print(\"Test R_squared:\", lasso.score(X_test_all, y_test))\n",
    "print(\"Train MSE:\", mean_squared_error(y_train, lasso.predict(X_train_all)))\n",
    "print(\"Test MSE:\", mean_squared_error(y_test, lasso.predict(X_test_all)))"
   ]
  },
  {
   "cell_type": "markdown",
   "metadata": {},
   "source": [
    "Take a look at this graph of our training and test MSE against alpha. Try to explain to yourself why the shapes of the training and test curves are this way. Make sure to think about what alpha represents and how it relates to overfitting vs underfitting."
   ]
  },
  {
   "cell_type": "markdown",
   "metadata": {},
   "source": [
    "## Summary\n",
    "\n",
    "Well done! You now know how to build Lasso and Ridge regression models, use them for feature selection and find an optimal value for $\\text{alpha}$. "
   ]
  }
 ],
 "metadata": {
  "kernelspec": {
   "display_name": "Python 3",
   "language": "python",
   "name": "python3"
  },
  "language_info": {
   "codemirror_mode": {
    "name": "ipython",
    "version": 3
   },
   "file_extension": ".py",
   "mimetype": "text/x-python",
   "name": "python",
   "nbconvert_exporter": "python",
   "pygments_lexer": "ipython3",
   "version": "3.7.3"
  }
 },
 "nbformat": 4,
 "nbformat_minor": 2
}
